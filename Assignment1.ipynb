{
  "nbformat": 4,
  "nbformat_minor": 0,
  "metadata": {
    "colab": {
      "provenance": [],
      "authorship_tag": "ABX9TyPWRCFHhh7OjhGgdHJG5pGP",
      "include_colab_link": true
    },
    "kernelspec": {
      "name": "python3",
      "display_name": "Python 3"
    },
    "language_info": {
      "name": "python"
    }
  },
  "cells": [
    {
      "cell_type": "markdown",
      "metadata": {
        "id": "view-in-github",
        "colab_type": "text"
      },
      "source": [
        "<a href=\"https://colab.research.google.com/github/a123r123p/Assignment1_PWSkills/blob/main/Assignment1.ipynb\" target=\"_parent\"><img src=\"https://colab.research.google.com/assets/colab-badge.svg\" alt=\"Open In Colab\"/></a>"
      ]
    },
    {
      "cell_type": "markdown",
      "source": [
        "write a code to reverse a string."
      ],
      "metadata": {
        "id": "HjNxGxp4PPLm"
      }
    },
    {
      "cell_type": "code",
      "execution_count": null,
      "metadata": {
        "colab": {
          "base_uri": "https://localhost:8080/"
        },
        "outputId": "918563e8-ea89-470a-e476-9e97eb50a4c7",
        "id": "6g12MtmrPPLn"
      },
      "outputs": [
        {
          "output_type": "stream",
          "name": "stdout",
          "text": [
            "Enter a string: Arpan\n",
            "Reversed string: naprA\n"
          ]
        }
      ],
      "source": [
        "def reverse_string(s):\n",
        "    return s[::-1]\n",
        "input_string = input(\"Enter a string: \")\n",
        "reversed_string = reverse_string(input_string)\n",
        "print(\"Reversed string:\", reversed_string)\n"
      ]
    },
    {
      "cell_type": "markdown",
      "source": [
        "Write a code to count the number of vowels in a string."
      ],
      "metadata": {
        "id": "7k-9gH_EPPLn"
      }
    },
    {
      "cell_type": "code",
      "source": [
        "def count_vowels_equal(string):\n",
        "    vowels = 'aeiouAEIOU'\n",
        "    count = 0\n",
        "    for char in string:\n",
        "        if char in vowels:\n",
        "            count += 1\n",
        "    return count\n",
        "input_string = input(\"Enter a string: \")\n",
        "result = count_vowels_equal(input_string)\n",
        "print(f\"Total number of vowels in the string: {result}\")\n"
      ],
      "metadata": {
        "colab": {
          "base_uri": "https://localhost:8080/"
        },
        "outputId": "601d1cec-a20a-4553-ab3f-486cba9a488d",
        "id": "X_IV2T-SPPLn"
      },
      "execution_count": null,
      "outputs": [
        {
          "output_type": "stream",
          "name": "stdout",
          "text": [
            "Enter a string: Arpan\n",
            "Total number of vowels in the string: 2\n"
          ]
        }
      ]
    },
    {
      "cell_type": "markdown",
      "source": [
        "Write a code to check if a given string is pallindrome or not."
      ],
      "metadata": {
        "id": "6A88YF0KPPLn"
      }
    },
    {
      "cell_type": "code",
      "source": [
        "def is_palindrome(s):\n",
        "\n",
        "    s = s.replace(\" \", \"\").lower()\n",
        "    return s == s[::-1]\n",
        "\n",
        "user_input = input(\"Enter a string: \")\n",
        "if is_palindrome(user_input):\n",
        "    print(\"Yes, it's a palindrome!\")\n",
        "else:\n",
        "    print(\"No, it's not a palindrome.\")\n"
      ],
      "metadata": {
        "colab": {
          "base_uri": "https://localhost:8080/"
        },
        "outputId": "0a47522f-a137-426b-e0db-0d3fbcd8cf09",
        "id": "7HyWG6jvPPLn"
      },
      "execution_count": null,
      "outputs": [
        {
          "output_type": "stream",
          "name": "stdout",
          "text": [
            "Enter a string: Nan\n",
            "Yes, it's a palindrome!\n"
          ]
        }
      ]
    },
    {
      "cell_type": "markdown",
      "source": [
        "Write a code to check if two given strings are anagrams of each other."
      ],
      "metadata": {
        "id": "3OUzjdGQPPLo"
      }
    },
    {
      "cell_type": "code",
      "source": [
        "def are_anagrams(str1, str2):\n",
        "    sorted_str1 = sorted(str1.lower())\n",
        "    sorted_str2 = sorted(str2.lower())\n",
        "    return sorted_str1 == sorted_str2\n",
        "\n",
        "input_str1 = input(\"Enter the first string: \")\n",
        "input_str2 = input(\"Enter the second string: \")\n",
        "\n",
        "if are_anagrams(input_str1, input_str2):\n",
        "    print(\"The strings are anagrams!\")\n",
        "else:\n",
        "    print(\"The strings aren't anagrams.\")\n"
      ],
      "metadata": {
        "colab": {
          "base_uri": "https://localhost:8080/"
        },
        "outputId": "de59a904-66a5-4a40-b8de-6c5a6d400f60",
        "id": "XkVLHnHmPPLo"
      },
      "execution_count": null,
      "outputs": [
        {
          "output_type": "stream",
          "name": "stdout",
          "text": [
            "Enter the first string: Arpan\n",
            "Enter the second string: Mondal\n",
            "The strings aren't anagrams.\n"
          ]
        }
      ]
    },
    {
      "cell_type": "markdown",
      "source": [
        "Write a code to find all occurrences of a given substring within another string"
      ],
      "metadata": {
        "id": "U2AI3GN2PPLo"
      }
    },
    {
      "cell_type": "code",
      "source": [
        "def find_substring_occurrences(target_string, substring):\n",
        "\n",
        "    target_string = target_string.lower()\n",
        "    substring = substring.lower()\n",
        "\n",
        "\n",
        "    occurrences = [i for i in range(len(target_string)) if target_string.startswith(substring, i)]\n",
        "\n",
        "    return occurrences\n",
        "\n",
        "\n",
        "input_string = input(\"Enter the main string: \")\n",
        "input_substring = input(\"Enter the substring to find: \")\n",
        "\n",
        "all_occurrences = find_substring_occurrences(input_string, input_substring)\n",
        "if all_occurrences:\n",
        "    print(f\"Start indices of the substring '{input_substring}' in the string:\")\n",
        "    print(all_occurrences)\n",
        "else:\n",
        "    print(f\"No occurrences of '{input_substring}' found in the string.\")\n"
      ],
      "metadata": {
        "colab": {
          "base_uri": "https://localhost:8080/"
        },
        "outputId": "f1df129b-9a54-4e36-dffd-7c6dad64468f",
        "id": "rbaKMemYPPLo"
      },
      "execution_count": null,
      "outputs": [
        {
          "output_type": "stream",
          "name": "stdout",
          "text": [
            "Enter the main string: Arpan\n",
            "Enter the substring to find: Mondal\n",
            "No occurrences of 'Mondal' found in the string.\n"
          ]
        }
      ]
    },
    {
      "cell_type": "code",
      "source": [],
      "metadata": {
        "id": "XvhKF7FdPPLo"
      },
      "execution_count": null,
      "outputs": []
    },
    {
      "cell_type": "markdown",
      "source": [
        "Write a code to perform basic string compression using the counts of repeated characters."
      ],
      "metadata": {
        "id": "-Ij_CNqUPPLo"
      }
    },
    {
      "cell_type": "code",
      "source": [
        "def compress_string(s):\n",
        "    compressed = []\n",
        "    count = 1\n",
        "\n",
        "    for i in range(1, len(s)):\n",
        "        if s[i] == s[i - 1]:\n",
        "            count += 1\n",
        "        else:\n",
        "            compressed.append(s[i - 1] + str(count))\n",
        "            count = 1\n",
        "\n",
        "\n",
        "    compressed.append(s[-1] + str(count))\n",
        "\n",
        "    return ''.join(compressed)\n",
        "\n",
        "\n",
        "input_string = input(\"Enter a string: \")\n",
        "compressed_result = compress_string(input_string)\n",
        "print(\"Compressed string:\", compressed_result)\n"
      ],
      "metadata": {
        "colab": {
          "base_uri": "https://localhost:8080/"
        },
        "outputId": "4545e9d1-cf53-4580-e8f6-3df51d0e53ba",
        "id": "UuuCcADWPPLo"
      },
      "execution_count": null,
      "outputs": [
        {
          "output_type": "stream",
          "name": "stdout",
          "text": [
            "Enter a string: Arpan\n",
            "Compressed string: A1r1p1a1n1\n"
          ]
        }
      ]
    },
    {
      "cell_type": "markdown",
      "source": [
        "Write a code to perform basic string hass all unique chacracters."
      ],
      "metadata": {
        "id": "r6UoRhhQPPLo"
      }
    },
    {
      "cell_type": "code",
      "source": [
        "from collections import Counter\n",
        "\n",
        "def has_unique_characters_counter(s):\n",
        "    freq = Counter(s)\n",
        "    return len(freq) == len(s)\n",
        "\n",
        "input_string = input(\"Enter a string: \")\n",
        "if has_unique_characters_counter(input_string):\n",
        "    print(\"The string contains all unique characters.\")\n",
        "else:\n",
        "    print(\"The string has duplicate characters.\")\n"
      ],
      "metadata": {
        "colab": {
          "base_uri": "https://localhost:8080/"
        },
        "outputId": "4ee67864-42ef-45c7-e393-5188f8d4ce38",
        "id": "dbtEoyK-PPLo"
      },
      "execution_count": null,
      "outputs": [
        {
          "output_type": "stream",
          "name": "stdout",
          "text": [
            "Enter a string: Arpan\n",
            "The string contains all unique characters.\n"
          ]
        }
      ]
    },
    {
      "cell_type": "markdown",
      "source": [
        "Write a code to convert a string to uppercse or lowercase."
      ],
      "metadata": {
        "id": "_mGUX3BsPPLo"
      }
    },
    {
      "cell_type": "code",
      "source": [
        "original_string = \"HELLO WORLD!\"\n",
        "lowercase_string = original_string.lower()\n",
        "\n",
        "print(\"Original string:\", original_string)\n",
        "print(\"Lowercase string:\", lowercase_string)\n",
        "\n"
      ],
      "metadata": {
        "colab": {
          "base_uri": "https://localhost:8080/"
        },
        "outputId": "c20b516b-98f0-495d-fb99-3b9a52000450",
        "id": "26_3CvjfPPLo"
      },
      "execution_count": null,
      "outputs": [
        {
          "output_type": "stream",
          "name": "stdout",
          "text": [
            "Original string: HELLO WORLD!\n",
            "Lowercase string: hello world!\n"
          ]
        }
      ]
    },
    {
      "cell_type": "markdown",
      "source": [
        "Write a code to count the number of words in a string."
      ],
      "metadata": {
        "id": "HODCJ8ZbPPLp"
      }
    },
    {
      "cell_type": "code",
      "source": [
        "def count_words(string):\n",
        "    words = string.split()\n",
        "    return len(words)\n",
        "\n",
        "input_string = input(\"Enter a string: \")\n",
        "word_count = count_words(input_string)\n",
        "print(f\"The string contains {word_count} words.\")\n"
      ],
      "metadata": {
        "colab": {
          "base_uri": "https://localhost:8080/"
        },
        "outputId": "6338a9a3-5fc5-4cb4-bb89-c8205747478a",
        "id": "mfXld_-APPLp"
      },
      "execution_count": null,
      "outputs": [
        {
          "output_type": "stream",
          "name": "stdout",
          "text": [
            "Enter a string: ARPAN\n",
            "The string contains 1 words.\n"
          ]
        }
      ]
    },
    {
      "cell_type": "markdown",
      "source": [
        "Write a code to concatenate two strings without using +operator"
      ],
      "metadata": {
        "id": "v2FX5KNkPPLp"
      }
    },
    {
      "cell_type": "code",
      "source": [
        "def concatenate_strings_slicing(str1, str2):\n",
        "    return str1[:len(str1)] + str2[:len(str2)]\n",
        "\n",
        "\n",
        "string1 = \"Hello\"\n",
        "string2 = \"World\"\n",
        "result = concatenate_strings_slicing(string1, string2)\n",
        "print(\"Concatenated string (slicing method):\", result)\n"
      ],
      "metadata": {
        "colab": {
          "base_uri": "https://localhost:8080/"
        },
        "outputId": "10463457-30fc-46e6-9c41-eddaa0995880",
        "id": "HPOq9EIaPPLp"
      },
      "execution_count": null,
      "outputs": [
        {
          "output_type": "stream",
          "name": "stdout",
          "text": [
            "Concatenated string (slicing method): HelloWorld\n"
          ]
        }
      ]
    },
    {
      "cell_type": "markdown",
      "source": [
        "Write a code to remove all occurence of a specific element from a list."
      ],
      "metadata": {
        "id": "CTjemYPkPPLq"
      }
    },
    {
      "cell_type": "code",
      "source": [
        "def remove_all_occurrences(lst, target):\n",
        "    \"\"\"\n",
        "    Removes all occurrences of 'target' from the list 'lst'.\n",
        "    \"\"\"\n",
        "    while target in lst:\n",
        "        lst.remove(target)\n",
        "\n",
        "\n",
        "my_list = [1, 2, 3, 2, 4, 2, 5]\n",
        "element_to_remove = 2\n",
        "\n",
        "remove_all_occurrences(my_list, element_to_remove)\n",
        "print(my_list)\n"
      ],
      "metadata": {
        "colab": {
          "base_uri": "https://localhost:8080/"
        },
        "outputId": "66ef0748-0226-4477-e0ad-ef9ccfc0f3cd",
        "id": "DvQ3afEPPPLq"
      },
      "execution_count": null,
      "outputs": [
        {
          "output_type": "stream",
          "name": "stdout",
          "text": [
            "[1, 3, 4, 5]\n"
          ]
        }
      ]
    },
    {
      "cell_type": "markdown",
      "source": [
        "Implement a code to find the second lrgest number in a given list of integer."
      ],
      "metadata": {
        "id": "d-qDk5JZPPLq"
      }
    },
    {
      "cell_type": "code",
      "source": [
        "def find_second_largest(lst):\n",
        "    \"\"\"\n",
        "    Finds the second largest number in the list 'lst'.\n",
        "    \"\"\"\n",
        "    sorted_lst = sorted(lst, reverse=True)\n",
        "    if len(sorted_lst) >= 2:\n",
        "        return sorted_lst[1]\n",
        "    else:\n",
        "        return None\n",
        "\n",
        "\n",
        "my_list = [10, 5, 8, 15, 12]\n",
        "second_largest = find_second_largest(my_list)\n",
        "if second_largest is not None:\n",
        "    print(f\"The second largest number is: {second_largest}\")\n",
        "else:\n",
        "    print(\"The list doesn't have enough elements to find the second largest.\")\n",
        "\n"
      ],
      "metadata": {
        "colab": {
          "base_uri": "https://localhost:8080/"
        },
        "outputId": "a3b0f600-66ce-45b5-f85f-6e861b228fa1",
        "id": "C3fkSFjjPPLq"
      },
      "execution_count": null,
      "outputs": [
        {
          "output_type": "stream",
          "name": "stdout",
          "text": [
            "The second largest number is: 12\n"
          ]
        }
      ]
    },
    {
      "cell_type": "markdown",
      "source": [
        "Create a code to find the occurrence of a specific element in a list and return a dictionry with elements as  keys and their counts as values"
      ],
      "metadata": {
        "id": "shSKqASBPPLq"
      }
    },
    {
      "cell_type": "code",
      "source": [
        "def count_elements(lst):\n",
        "    \"\"\"\n",
        "    Counts the occurrences of each element in the list 'lst'.\n",
        "    Returns a dictionary with elements as keys and their counts as values.\n",
        "    \"\"\"\n",
        "    element_counts = {}\n",
        "    for item in lst:\n",
        "        if item in element_counts:\n",
        "            element_counts[item] += 1\n",
        "        else:\n",
        "            element_counts[item] = 1\n",
        "    return element_counts\n",
        "\n",
        "my_list = [1, 2, 3, 2, 4, 2, 5]\n",
        "result_dict = count_elements(my_list)\n",
        "\n",
        "print(\"Element counts:\")\n",
        "for element, count in result_dict.items():\n",
        "    print(f\"{element}: {count}\")\n"
      ],
      "metadata": {
        "colab": {
          "base_uri": "https://localhost:8080/"
        },
        "outputId": "c21a9217-f61b-4956-8466-fdd67f92c43b",
        "id": "VR7vkeTKPPLq"
      },
      "execution_count": null,
      "outputs": [
        {
          "output_type": "stream",
          "name": "stdout",
          "text": [
            "Element counts:\n",
            "1: 1\n",
            "2: 3\n",
            "3: 1\n",
            "4: 1\n",
            "5: 1\n"
          ]
        }
      ]
    },
    {
      "cell_type": "markdown",
      "source": [
        "Write a code to reverse a list in - place without using any buildin rverse function"
      ],
      "metadata": {
        "id": "uNuKT827PPLq"
      }
    },
    {
      "cell_type": "code",
      "source": [
        "def reverse_list_in_place(lst):\n",
        "    \"\"\"\n",
        "    Reverses the given list in-place (without creating a new list).\n",
        "    \"\"\"\n",
        "    left, right = 0, len(lst) - 1\n",
        "    while left < right:\n",
        "        lst[left], lst[right] = lst[right], lst[left]\n",
        "        left += 1\n",
        "        right -= 1\n",
        "\n",
        "\n",
        "my_list = [1, 2, 3, 4, 5]\n",
        "reverse_list_in_place(my_list)\n",
        "print(my_list)\n"
      ],
      "metadata": {
        "colab": {
          "base_uri": "https://localhost:8080/"
        },
        "outputId": "6af2ebee-ac48-4aff-e233-9a05647cc1be",
        "id": "EG00I5KhPPLq"
      },
      "execution_count": null,
      "outputs": [
        {
          "output_type": "stream",
          "name": "stdout",
          "text": [
            "[5, 4, 3, 2, 1]\n"
          ]
        }
      ]
    },
    {
      "cell_type": "markdown",
      "source": [
        "Implement a code to find and remove duplicates from a list while preserving the original order of the elements."
      ],
      "metadata": {
        "id": "SwNPlxm_PPLq"
      }
    },
    {
      "cell_type": "markdown",
      "source": [],
      "metadata": {
        "id": "8qxAul-CPPLq"
      }
    },
    {
      "cell_type": "code",
      "source": [
        "def remove_duplicates_preserve_order(lst):\n",
        "    \"\"\"\n",
        "    Removes duplicates from the list 'lst' while preserving the original order.\n",
        "    \"\"\"\n",
        "    seen_elements = {}\n",
        "    result = []\n",
        "    for item in lst:\n",
        "        if item not in seen_elements:\n",
        "            result.append(item)\n",
        "            seen_elements[item] = True\n",
        "    return result\n",
        "\n",
        "my_list = [1, 2, 3, 2, 4, 1, 5, 3]\n",
        "unique_elements = remove_duplicates_preserve_order(my_list)\n",
        "print(unique_elements)\n"
      ],
      "metadata": {
        "colab": {
          "base_uri": "https://localhost:8080/"
        },
        "outputId": "ff9d6031-79dc-4091-d0a8-7e320c5b6850",
        "id": "TXBuW7W1PPLq"
      },
      "execution_count": null,
      "outputs": [
        {
          "output_type": "stream",
          "name": "stdout",
          "text": [
            "[1, 2, 3, 4, 5]\n"
          ]
        }
      ]
    },
    {
      "cell_type": "markdown",
      "source": [
        "Create a code to check if a given list is sorted or not."
      ],
      "metadata": {
        "id": "yQ1hOilaPPLq"
      }
    },
    {
      "cell_type": "code",
      "source": [
        "def is_sorted(lst):\n",
        "\n",
        "    for i in range(1, len(lst)):\n",
        "        if lst[i] < lst[i - 1]:\n",
        "            return False\n",
        "    return True\n",
        "\n",
        "my_list = [1, 3, 5, 7, 9]\n",
        "if is_sorted(my_list):\n",
        "    print(\"The list is sorted.\")\n",
        "else:\n",
        "    print(\"The list is not sorted.\")\n",
        "\n"
      ],
      "metadata": {
        "colab": {
          "base_uri": "https://localhost:8080/"
        },
        "outputId": "c517dc8d-409a-4905-a424-c696f01457b9",
        "id": "BWfQcvrBPPLr"
      },
      "execution_count": null,
      "outputs": [
        {
          "output_type": "stream",
          "name": "stdout",
          "text": [
            "The list is sorted.\n"
          ]
        }
      ]
    },
    {
      "cell_type": "markdown",
      "source": [
        "Write a code to merge two sorted list into a single sorted list."
      ],
      "metadata": {
        "id": "ukalIQpEPPLr"
      }
    },
    {
      "cell_type": "code",
      "source": [
        "def merge_sorted_lists(list1, list2):\n",
        "\n",
        "    merged_list = []\n",
        "    i, j = 0, 0\n",
        "\n",
        "    while i < len(list1) and j < len(list2):\n",
        "        if list1[i] <= list2[j]:\n",
        "            merged_list.append(list1[i])\n",
        "            i += 1\n",
        "        else:\n",
        "            merged_list.append(list2[j])\n",
        "            j += 1\n",
        "\n",
        "    merged_list.extend(list1[i:])\n",
        "    merged_list.extend(list2[j:])\n",
        "\n",
        "    return merged_list\n",
        "\n",
        "\n",
        "list1 = [1, 3, 5, 7]\n",
        "list2 = [2, 4, 6, 8]\n",
        "result = merge_sorted_lists(list1, list2)\n",
        "print(result)"
      ],
      "metadata": {
        "colab": {
          "base_uri": "https://localhost:8080/"
        },
        "outputId": "617293f7-c929-46d7-d74a-88b5d5cf73aa",
        "id": "kqXv6WkUPPLr"
      },
      "execution_count": null,
      "outputs": [
        {
          "output_type": "stream",
          "name": "stdout",
          "text": [
            "[1, 2, 3, 4, 5, 6, 7, 8]\n"
          ]
        }
      ]
    },
    {
      "cell_type": "markdown",
      "source": [
        "Implemented a code to find the intersection of two given lists."
      ],
      "metadata": {
        "id": "3_LyuUAdPPLr"
      }
    },
    {
      "cell_type": "code",
      "source": [
        "def find_intersection(list1, list2):\n",
        "\n",
        "    set1 = set(list1)\n",
        "    set2 = set(list2)\n",
        "    intersection = set1 & set2\n",
        "    return list(intersection)\n",
        "\n",
        "list1 = [1, 2, 3, 4, 5]\n",
        "list2 = [3, 4, 5, 6, 7]\n",
        "\n",
        "result = find_intersection(list1, list2)\n",
        "print(\"Intersection:\", result)\n"
      ],
      "metadata": {
        "colab": {
          "base_uri": "https://localhost:8080/"
        },
        "outputId": "e154766d-ac1d-48af-bf9f-b1500076c2e2",
        "id": "4eL7ImkqPPLr"
      },
      "execution_count": null,
      "outputs": [
        {
          "output_type": "stream",
          "name": "stdout",
          "text": [
            "Intersection: [3, 4, 5]\n"
          ]
        }
      ]
    },
    {
      "cell_type": "markdown",
      "source": [
        "Create a code to find the unoin of two lists without duplicates"
      ],
      "metadata": {
        "id": "8z53sRMmPPLr"
      }
    },
    {
      "cell_type": "code",
      "source": [
        "def find_union(list1, list2):\n",
        "\n",
        "\n",
        "    set1 = set(list1)\n",
        "    set2 = set(list2)\n",
        "    union = set1 | set2\n",
        "    return list(union)\n",
        "\n",
        "\n",
        "list1 = [1, 2, 3, 4, 5]\n",
        "list2 = [3, 4, 5, 6, 7]\n",
        "\n",
        "result = find_union(list1, list2)\n",
        "print(\"Union:\", result)\n"
      ],
      "metadata": {
        "colab": {
          "base_uri": "https://localhost:8080/"
        },
        "outputId": "ccb7138c-49f6-4fde-eecd-db98a0accda1",
        "id": "xp3v0Gv2PPLr"
      },
      "execution_count": null,
      "outputs": [
        {
          "output_type": "stream",
          "name": "stdout",
          "text": [
            "Union: [1, 2, 3, 4, 5, 6, 7]\n"
          ]
        }
      ]
    },
    {
      "cell_type": "markdown",
      "source": [
        "Write a code to shuffle a given list randomly without using a built-in shuffle functions."
      ],
      "metadata": {
        "id": "g5TbBtZjPPLr"
      }
    },
    {
      "cell_type": "code",
      "source": [
        "import random\n",
        "\n",
        "def custom_shuffle(lst):\n",
        "\n",
        "\n",
        "\n",
        "    n = len(lst)\n",
        "    for i in range(n - 1, 0, -1):\n",
        "\n",
        "        j = random.randint(0, i)\n",
        "\n",
        "        lst[i], lst[j] = lst[j], lst[i]\n",
        "\n",
        "\n",
        "my_list = [1, 2, 3, 4, 5]\n",
        "custom_shuffle(my_list)\n",
        "print(\"Shuffled list:\", my_list)\n"
      ],
      "metadata": {
        "colab": {
          "base_uri": "https://localhost:8080/"
        },
        "outputId": "342ef006-35c2-4575-e91b-22f6e1451885",
        "id": "FpWFHPkOPPLr"
      },
      "execution_count": null,
      "outputs": [
        {
          "output_type": "stream",
          "name": "stdout",
          "text": [
            "Shuffled list: [3, 1, 2, 4, 5]\n"
          ]
        }
      ]
    },
    {
      "cell_type": "markdown",
      "source": [],
      "metadata": {
        "id": "rAstBMg9PPLr"
      }
    },
    {
      "cell_type": "markdown",
      "source": [
        "Write a code that takes two tupe as input and returns a new tuple containing elements that are both input tuples"
      ],
      "metadata": {
        "id": "D8QxxP0LPPLr"
      }
    },
    {
      "cell_type": "code",
      "source": [
        "def common_elements(tup1, tup2):\n",
        "\n",
        "    set1 = set(tup1)\n",
        "    set2 = set(tup2)\n",
        "    common_set = set1 & set2\n",
        "    return tuple(common_set)\n",
        "\n",
        "tuple1 = (1, 2, 3, 4)\n",
        "tuple2 = (3, 4, 5, 6)\n",
        "\n",
        "result = common_elements(tuple1, tuple2)\n",
        "print(\"Common elements:\", result)\n"
      ],
      "metadata": {
        "colab": {
          "base_uri": "https://localhost:8080/"
        },
        "outputId": "5ed247f9-6579-43e9-f9e8-0ff652b99da3",
        "id": "VpLq4fJMPPLr"
      },
      "execution_count": null,
      "outputs": [
        {
          "output_type": "stream",
          "name": "stdout",
          "text": [
            "Common elements: (3, 4)\n"
          ]
        }
      ]
    },
    {
      "cell_type": "markdown",
      "source": [
        "Create a code that prompts the user to enter two sets of integers seperated by commas.Then ,print the intersection of these two sets."
      ],
      "metadata": {
        "id": "moxfESFFPPLr"
      }
    },
    {
      "cell_type": "code",
      "source": [
        "def get_set_from_input():\n",
        "\n",
        "\n",
        "    input_str = input(\"Enter a set of integers (comma-separated): \")\n",
        "    input_list = input_str.split(\",\")\n",
        "    return set(map(int, input_list))\n",
        "\n",
        "def main():\n",
        "    set1 = get_set_from_input()\n",
        "    set2 = get_set_from_input()\n",
        "\n",
        "    intersection = set1 & set2\n",
        "    print(\"Intersection of the two sets:\", intersection)\n",
        "\n",
        "if __name__ == \"__main__\":\n",
        "    main()\n"
      ],
      "metadata": {
        "colab": {
          "base_uri": "https://localhost:8080/"
        },
        "outputId": "b9aa9b37-580a-4113-addc-aa566e4ac204",
        "id": "nxOWJZ6ePPLs"
      },
      "execution_count": null,
      "outputs": [
        {
          "output_type": "stream",
          "name": "stdout",
          "text": [
            "Enter a set of integers (comma-separated): 1234\n",
            "Enter a set of integers (comma-separated): 2345\n",
            "Intersection of the two sets: set()\n"
          ]
        }
      ]
    },
    {
      "cell_type": "markdown",
      "source": [
        "Write a code to concanate 2 tuples.The function should take two tuples as input and return a new  tuple containing elements from both input tuples."
      ],
      "metadata": {
        "id": "Dz-x2lApPPLs"
      }
    },
    {
      "cell_type": "code",
      "source": [
        "def concatenate_tuples(tup1, tup2):\n",
        "\n",
        "\n",
        "    return tup1 + tup2\n",
        "\n",
        "\n",
        "tuple1 = (1, 2, 3)\n",
        "tuple2 = (4, 5, 6)\n",
        "\n",
        "result = concatenate_tuples(tuple1, tuple2)\n",
        "print(\"Concatenated tuple:\", result)"
      ],
      "metadata": {
        "colab": {
          "base_uri": "https://localhost:8080/"
        },
        "outputId": "14267a85-5878-46e9-d020-0df9e1d372ef",
        "id": "HZVEyr9cPPLs"
      },
      "execution_count": null,
      "outputs": [
        {
          "output_type": "stream",
          "name": "stdout",
          "text": [
            "Concatenated tuple: (1, 2, 3, 4, 5, 6)\n"
          ]
        }
      ]
    },
    {
      "cell_type": "markdown",
      "source": [
        "Develop a code that prompt the user to input 2 sets of string.then ,print the elements that are present in first set but not in the second set."
      ],
      "metadata": {
        "id": "J4YRkHXgPPLs"
      }
    },
    {
      "cell_type": "code",
      "source": [
        "def get_set_from_input(prompt):\n",
        "\n",
        "\n",
        "    input_str = input(prompt)\n",
        "    input_list = input_str.split(\",\")\n",
        "    return set(input_list)\n",
        "\n",
        "def main():\n",
        "    set1 = get_set_from_input(\"Enter the first set of strings (comma-separated): \")\n",
        "    set2 = get_set_from_input(\"Enter the second set of strings (comma-separated): \")\n",
        "\n",
        "    difference = set1 - set2\n",
        "    print(\"Elements in the first set but not in the second set:\", difference)\n",
        "\n",
        "if __name__ == \"__main__\":\n",
        "    main()\n"
      ],
      "metadata": {
        "colab": {
          "base_uri": "https://localhost:8080/"
        },
        "outputId": "32500b33-ac82-4363-c28e-7cce86225640",
        "id": "TRo0b3eiPPLs"
      },
      "execution_count": null,
      "outputs": [
        {
          "output_type": "stream",
          "name": "stdout",
          "text": [
            "Enter the first set of strings (comma-separated): ARPAN\n",
            "Enter the second set of strings (comma-separated): ARPAN\n",
            "Elements in the first set but not in the second set: set()\n"
          ]
        }
      ]
    },
    {
      "cell_type": "markdown",
      "source": [
        "Create a code that takes a tuple and two integer as input.The function should return a new tuple containing elements from the original tuple within the specified range of indices"
      ],
      "metadata": {
        "id": "8VffzttBPPLs"
      }
    },
    {
      "cell_type": "code",
      "source": [
        "def get_subtuple(original_tuple, start_index, end_index):\n",
        "\n",
        "\n",
        "\n",
        "    if start_index < 0 or end_index >= len(original_tuple) or start_index > end_index:\n",
        "        raise ValueError(\"Invalid indices provided\")\n",
        "\n",
        "    subtuple = original_tuple[start_index:end_index + 1]\n",
        "    return tuple(subtuple)\n",
        "\n",
        "\n",
        "my_tuple = (1, 2, 3, 4, 5, 6, 7)\n",
        "start_idx = 2\n",
        "end_idx = 5\n",
        "\n",
        "result = get_subtuple(my_tuple, start_idx, end_idx)\n",
        "print(\"Subtuple:\", result)\n"
      ],
      "metadata": {
        "colab": {
          "base_uri": "https://localhost:8080/"
        },
        "outputId": "92cd87b0-4161-4040-c572-d8aaf7f85024",
        "id": "laIZjqHLPPLs"
      },
      "execution_count": null,
      "outputs": [
        {
          "output_type": "stream",
          "name": "stdout",
          "text": [
            "Subtuple: (3, 4, 5, 6)\n"
          ]
        }
      ]
    },
    {
      "cell_type": "markdown",
      "source": [
        "Write a code that prompts the user to input two sets of character. Then, print the union of these 2 sets"
      ],
      "metadata": {
        "id": "pl-w3nC8PPLs"
      }
    },
    {
      "cell_type": "code",
      "source": [
        "def get_set_from_input(prompt):\n",
        "\n",
        "\n",
        "    input_str = input(prompt)\n",
        "    input_list = input_str.split(\",\")\n",
        "    return set(input_list)\n",
        "\n",
        "def main():\n",
        "    set1 = get_set_from_input(\"Enter the first set of characters (comma-separated): \")\n",
        "    set2 = get_set_from_input(\"Enter the second set of characters (comma-separated): \")\n",
        "\n",
        "    union = set1 | set2\n",
        "    print(\"Union of the two sets:\", union)\n",
        "\n",
        "if __name__ == \"__main__\":\n",
        "    main()\n"
      ],
      "metadata": {
        "colab": {
          "base_uri": "https://localhost:8080/"
        },
        "outputId": "a1707038-eb3d-47aa-c567-499cbf37aa48",
        "id": "UAwe-Yx5PPLs"
      },
      "execution_count": null,
      "outputs": [
        {
          "output_type": "stream",
          "name": "stdout",
          "text": [
            "Enter the first set of characters (comma-separated): a\n",
            "Enter the second set of characters (comma-separated): b\n",
            "Union of the two sets: {'a', 'b'}\n"
          ]
        }
      ]
    },
    {
      "cell_type": "markdown",
      "source": [
        "Develop a code that takes a tuple of integers as input.The function should return the maximum and minimum values from the tuple using tuple unpacking."
      ],
      "metadata": {
        "id": "sfpDrd7lPPLs"
      }
    },
    {
      "cell_type": "code",
      "source": [
        "def find_max_min_values(input_tuple):\n",
        "\n",
        "\n",
        "    max_value = max(input_tuple)\n",
        "    min_value = min(input_tuple)\n",
        "    return max_value, min_value\n",
        "\n",
        "\n",
        "my_tuple = (10, 5, 8, 15, 12)\n",
        "\n",
        "max_val, min_val = find_max_min_values(my_tuple)\n",
        "print(f\"Maximum value: {max_val}\")\n",
        "print(f\"Minimum value: {min_val}\")\n"
      ],
      "metadata": {
        "colab": {
          "base_uri": "https://localhost:8080/"
        },
        "outputId": "4062b5eb-ec93-4eaf-977c-811586684514",
        "id": "ppyi7RnRPPLs"
      },
      "execution_count": null,
      "outputs": [
        {
          "output_type": "stream",
          "name": "stdout",
          "text": [
            "Maximum value: 15\n",
            "Minimum value: 5\n"
          ]
        }
      ]
    },
    {
      "cell_type": "markdown",
      "source": [],
      "metadata": {
        "id": "97fTpUoyPPLs"
      }
    },
    {
      "cell_type": "markdown",
      "source": [
        "Write  a code that takes a list of words as inputs and return a dictionary where the keys are unique words and the values are the frequencies of those words in the inputs list."
      ],
      "metadata": {
        "id": "vzYbM-fWPPLt"
      }
    },
    {
      "cell_type": "code",
      "source": [
        "def word_frequencies(word_list):\n",
        "\n",
        "\n",
        "\n",
        "    word_count = {}\n",
        "    for word in word_list:\n",
        "        word_count[word] = word_count.get(word, 0) + 1\n",
        "    return word_count\n",
        "\n",
        "\n",
        "input_words = [\"apple\", \"banana\", \"apple\", \"cherry\", \"banana\", \"apple\", \"banana\", \"date\"]\n",
        "\n",
        "word_freq_dict = word_frequencies(input_words)\n",
        "print(\"Word frequencies:\")\n",
        "for word, freq in word_freq_dict.items():\n",
        "    print(f\"{word}: {freq}\")"
      ],
      "metadata": {
        "colab": {
          "base_uri": "https://localhost:8080/"
        },
        "outputId": "b176a491-cd0a-4983-9880-37bc777212f4",
        "id": "kK1IWvnUPPLt"
      },
      "execution_count": null,
      "outputs": [
        {
          "output_type": "stream",
          "name": "stdout",
          "text": [
            "Word frequencies:\n",
            "apple: 3\n",
            "banana: 3\n",
            "cherry: 1\n",
            "date: 1\n"
          ]
        }
      ]
    },
    {
      "cell_type": "markdown",
      "source": [
        "Write a code that takes two dictionaries as input and merges them into a single dictionary.If there are common keys,the values should be added together."
      ],
      "metadata": {
        "id": "SUqjHxF6PPLt"
      }
    },
    {
      "cell_type": "code",
      "source": [
        "def merge_dictionaries(dict1, dict2):\n",
        "\n",
        "    merged_dict = dict1.copy()\n",
        "    for key, value in dict2.items():\n",
        "        if key in merged_dict:\n",
        "\n",
        "            merged_dict[key] += value\n",
        "        else:\n",
        "\n",
        "            merged_dict[key] = value\n",
        "    return merged_dict\n",
        "\n",
        "\n",
        "dict1 = {\"apple\": 3, \"banana\": 5, \"cherry\": 2}\n",
        "dict2 = {\"banana\": 2, \"date\": 4, \"elderberry\": 1}\n",
        "\n",
        "result = merge_dictionaries(dict1, dict2)\n",
        "print(\"Merged dictionary:\")\n",
        "for key, value in result.items():\n",
        "    print(f\"{key}: {value}\")\n",
        "\n"
      ],
      "metadata": {
        "colab": {
          "base_uri": "https://localhost:8080/"
        },
        "outputId": "870b9817-6771-4f43-dc49-5d999805a5c7",
        "id": "u6kJy8SQPPLt"
      },
      "execution_count": null,
      "outputs": [
        {
          "output_type": "stream",
          "name": "stdout",
          "text": [
            "Merged dictionary:\n",
            "apple: 3\n",
            "banana: 7\n",
            "cherry: 2\n",
            "date: 4\n",
            "elderberry: 1\n"
          ]
        }
      ]
    },
    {
      "cell_type": "code",
      "source": [],
      "metadata": {
        "id": "OlLkibVSPPLt"
      },
      "execution_count": null,
      "outputs": []
    }
  ]
}